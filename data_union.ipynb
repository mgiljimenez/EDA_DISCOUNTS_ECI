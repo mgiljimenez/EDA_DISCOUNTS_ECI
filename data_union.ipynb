{
 "cells": [
  {
   "cell_type": "code",
   "execution_count": 2,
   "metadata": {},
   "outputs": [],
   "source": [
    "#Importamos las librerías\n",
    "import os"
   ]
  },
  {
   "cell_type": "code",
   "execution_count": null,
   "metadata": {},
   "outputs": [],
   "source": [
    "# Directorio que contiene los archivos CSV sin encabezado\n",
    "directorio = os.getcwd()\n",
    "\n",
    "# Definimos el nombre de las columnas del .csv final y lo introducimos en dicho archivo\n",
    "header_especificado = [\"Producto\",\"Marca\",\"Precio inicial\",\"Descuento\",\"Precio descuento\",\"Sección\",\"Subsección\"]\n",
    "with open(\"DATA_FINAL.csv\", \"a\",encoding=\"utf-8\") as final_file:\n",
    "    final_file.write(\";\".join(header_especificado)+\"\\n\")\n",
    "\n",
    "\n",
    "# Itera a través de todos los archivos en el directorio .csv y los añade al .csv final\n",
    "for archivo in os.listdir(directorio):\n",
    "    if archivo.endswith(\".csv\") and archivo!=\"DATA_FINAL.csv\":\n",
    "         with open(archivo, 'r', encoding=\"utf-8\") as file:\n",
    "                        for line in file:\n",
    "                            with open(\"DATA_FINAL.csv\", \"a\",encoding=\"utf-8\") as final_file:\n",
    "                                    final_file.write(line)\n",
    "\n",
    "print(\"Proceso completado. El archivo final se ha guardado.\")\n"
   ]
  }
 ],
 "metadata": {
  "kernelspec": {
   "display_name": "Python 3",
   "language": "python",
   "name": "python3"
  },
  "language_info": {
   "codemirror_mode": {
    "name": "ipython",
    "version": 3
   },
   "file_extension": ".py",
   "mimetype": "text/x-python",
   "name": "python",
   "nbconvert_exporter": "python",
   "pygments_lexer": "ipython3",
   "version": "3.7.4"
  }
 },
 "nbformat": 4,
 "nbformat_minor": 2
}
