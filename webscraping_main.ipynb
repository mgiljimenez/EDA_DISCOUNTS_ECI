{
 "cells": [
  {
   "cell_type": "code",
   "execution_count": 2,
   "metadata": {},
   "outputs": [],
   "source": [
    "#Importación de librerías\n",
    "import pandas as pd\n",
    "import csv\n",
    "from selenium import webdriver\n",
    "from bs4 import BeautifulSoup"
   ]
  },
  {
   "cell_type": "markdown",
   "metadata": {},
   "source": [
    "Función que devuelve el contenido de una web"
   ]
  },
  {
   "cell_type": "code",
   "execution_count": 9,
   "metadata": {},
   "outputs": [],
   "source": [
    "def descargar_datos(url):\n",
    "    \"\"\"Esta función recibe como input una url y devuelve el DOM de la web formateado con BeautifulSoup\n",
    "    -Input: url\n",
    "    -Ouput: DOM de la web\"\"\"\n",
    "    configuration_driver = webdriver.ChromeOptions()\n",
    "    # configuration_driver.add_argument('--headless')\n",
    "    driver = webdriver.Chrome(options=configuration_driver)\n",
    "    driver.get(url)\n",
    "    soup = BeautifulSoup(driver.page_source, 'lxml')\n",
    "    driver.close()\n",
    "    #Extraemos los dos bloques div que contienen las dos tablas a explorar y las guardamos en tabla1 y tabla2\n",
    "    return(soup)"
   ]
  },
  {
   "cell_type": "markdown",
   "metadata": {},
   "source": [
    "Urls de las subsecciones pertenecientes a la **sección Mujer**"
   ]
  },
  {
   "cell_type": "code",
   "execution_count": 4,
   "metadata": {},
   "outputs": [],
   "source": [
    "mujer_ropa=\"https://www.elcorteingles.es/descuentos/moda-mujer/ropa/\"\n",
    "mujer_zapatos=\"https://www.elcorteingles.es/descuentos/moda-mujer/zapatos/\"\n",
    "mujer_bolsos=\"https://www.elcorteingles.es/descuentos/moda-mujer/bolsos/\"\n",
    "mujer_accesorios=\"https://www.elcorteingles.es/descuentos/moda-mujer/accesorios/\"\n",
    "mujer_joyeria_relojes=\"https://www.elcorteingles.es/descuentos/moda-mujer/joyeria-y-relojes/\"\n",
    "mujer_lenceria=\"https://www.elcorteingles.es/descuentos/moda-mujer/lenceria/\"\n",
    "mujer_ropa_baño=\"https://www.elcorteingles.es/descuentos/moda-mujer/ropa-de-bano/\"\n",
    "mujer_tallas_grandes=\"https://www.elcorteingles.es/descuentos/moda-mujer/tallas-grandes/\"\n",
    "links_mujer={\"Ropa\":mujer_ropa,\"Zapatos\":mujer_zapatos,\"Bolsos\":mujer_bolsos,\"Accesorios\":mujer_accesorios,\"Joyería y relojes\": mujer_joyeria_relojes,\n",
    "              \"Lencería\":mujer_lenceria, \"Ropa de baño\":mujer_ropa_baño,\"Tallas grandes\": mujer_tallas_grandes}"
   ]
  },
  {
   "cell_type": "markdown",
   "metadata": {},
   "source": [
    "Urls de las subsecciones pertenecientes a la **sección Hombre**"
   ]
  },
  {
   "cell_type": "code",
   "execution_count": 5,
   "metadata": {},
   "outputs": [],
   "source": [
    "hombre_ropa=\"https://www.elcorteingles.es/descuentos/moda-hombre/ropa/\" #36 --\n",
    "hombre_zapatos=\"https://www.elcorteingles.es/descuentos/moda-hombre/zapatos/\" #18--\n",
    "hombre_accesorios=\"https://www.elcorteingles.es/descuentos/moda-hombre/accesorios/\"#20--\n",
    "hombre_interior_baño=\"https://www.elcorteingles.es/descuentos/moda-hombre/interior-y-bano/\" #2\n",
    "hombre_joyeria_relojes=\"https://www.elcorteingles.es/descuentos/moda-hombre/joyeria-y-relojes/\" #5---\n",
    "hombre_tallas_grandes=\"https://www.elcorteingles.es/descuentos/moda-hombre/tallas-grandes/\" #5\n",
    "\n",
    "links_hombre={\"Ropa\":hombre_ropa,\"Zapatos\":hombre_zapatos,\"Accesorios\":hombre_accesorios,\"Joyería y relojes\": hombre_joyeria_relojes,\n",
    "              \"Ropa de baño\":hombre_interior_baño,\"Tallas grandes\": hombre_tallas_grandes}"
   ]
  },
  {
   "cell_type": "markdown",
   "metadata": {},
   "source": [
    "Codigo que ataca a todas las subsecciones de **Mujer** y crea un **.csv** con los productos para cada **subsección**"
   ]
  },
  {
   "cell_type": "code",
   "execution_count": null,
   "metadata": {},
   "outputs": [],
   "source": [
    "for subseccion in links_mujer:\n",
    "    productos_finales=[]\n",
    "    for i in range(1,500):\n",
    "        codigo=descargar_datos(f\"{links_mujer[subseccion]}{i}/\")\n",
    "        if codigo.find(\"div\",class_=\"products_list-container-empty_search\"):\n",
    "            break\n",
    "        else:\n",
    "            productos=codigo.find_all(\"li\",class_=\"products_list-item\")\n",
    "            try:\n",
    "                for i in productos:\n",
    "                    nombre=i.find(\"a\", class_=\"product_preview-title\").text\n",
    "                    marca=i.find(\"p\", class_=\"product_preview-brand--text\").text\n",
    "                    precio_inicial=i.find(\"span\", class_=\"price-unit--original\").text\n",
    "                    descuento=i.find(\"span\", class_=\"price-discount\").text\n",
    "                    precio_final=i.find(\"span\", class_=\"price-sale\").text\n",
    "                    productos_finales.append([nombre, marca, precio_inicial, descuento, precio_final])\n",
    "                    with open(f'mujer_{subseccion}.csv', 'a', encoding=\"utf-8\") as file:\n",
    "                        file.write(f\"{nombre};{marca};{precio_inicial};{descuento};{precio_final};{'Mujer'};{subseccion}\\n\")\n",
    "            except:\n",
    "                pass\n",
    "print(\"Proceso finalizado. Ya se han creado los .csv\")"
   ]
  },
  {
   "cell_type": "markdown",
   "metadata": {},
   "source": [
    "Codigo que ataca a todas las subsecciones de **Hombre** y crea un **.csv** con los productos para cada **subsección**"
   ]
  },
  {
   "cell_type": "code",
   "execution_count": null,
   "metadata": {},
   "outputs": [],
   "source": [
    "for subseccion in links_hombre:\n",
    "    productos_finales=[]\n",
    "    for i in range(1,250):\n",
    "        codigo=descargar_datos(f\"{links_hombre[subseccion]}{i}/\")\n",
    "        if codigo.find(\"div\",class_=\"products_list-container-empty_search\"):\n",
    "            break\n",
    "        else:\n",
    "            productos=codigo.find_all(\"li\",class_=\"products_list-item\")\n",
    "            try:\n",
    "                for i in productos:\n",
    "                    nombre=i.find(\"a\", class_=\"product_preview-title\").text\n",
    "                    marca=i.find(\"p\", class_=\"product_preview-brand--text\").text\n",
    "                    precio_inicial=i.find(\"span\", class_=\"price-unit--original\").text\n",
    "                    descuento=i.find(\"span\", class_=\"price-discount\").text\n",
    "                    precio_final=i.find(\"span\", class_=\"price-sale\").text\n",
    "                    productos_finales.append([nombre, marca, precio_inicial, descuento, precio_final])\n",
    "                    with open(f'hombre_{subseccion}.csv', 'a', encoding=\"utf-8\") as file:\n",
    "                        file.write(f\"{nombre};{marca};{precio_inicial};{descuento};{precio_final};{'Hombre'};{subseccion}\\n\")\n",
    "            except:\n",
    "                pass\n",
    "print(\"Proceso finalizado. Ya se han creado los .csv\")"
   ]
  }
 ],
 "metadata": {
  "kernelspec": {
   "display_name": "Python 3",
   "language": "python",
   "name": "python3"
  },
  "language_info": {
   "codemirror_mode": {
    "name": "ipython",
    "version": 3
   },
   "file_extension": ".py",
   "mimetype": "text/x-python",
   "name": "python",
   "nbconvert_exporter": "python",
   "pygments_lexer": "ipython3",
   "version": "3.7.4"
  }
 },
 "nbformat": 4,
 "nbformat_minor": 2
}
